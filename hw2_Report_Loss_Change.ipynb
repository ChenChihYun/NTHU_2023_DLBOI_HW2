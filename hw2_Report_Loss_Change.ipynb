{
  "cells": [
    {
      "cell_type": "markdown",
      "metadata": {
        "id": "Li0bVCTuxc6n"
      },
      "source": [
        "<div align=\"center\">\n",
        "\n",
        "# National Tsing Hua University\n",
        "\n",
        "### Fall 2023\n",
        "\n",
        "#### 11210IPT 553000\n",
        "\n",
        "#### Deep Learning in Biomedical Optical Imaging\n",
        "\n",
        "## HW2 (Lab 3): Change Loss function\n",
        "\n",
        "</div>\n"
      ]
    },
    {
      "cell_type": "code",
      "execution_count": 19,
      "metadata": {
        "id": "mGJcRwdzM7pS",
        "colab": {
          "base_uri": "https://localhost:8080/"
        },
        "outputId": "0cb0a2d7-4ece-4549-df0d-46967005c55d"
      },
      "outputs": [
        {
          "output_type": "stream",
          "name": "stdout",
          "text": [
            "--2023-10-16 13:15:54--  https://raw.githubusercontent.com/TacoXDD/homeworks/master/dataset/train/normal.npy\n",
            "Resolving raw.githubusercontent.com (raw.githubusercontent.com)... 185.199.110.133, 185.199.111.133, 185.199.109.133, ...\n",
            "Connecting to raw.githubusercontent.com (raw.githubusercontent.com)|185.199.110.133|:443... connected.\n",
            "HTTP request sent, awaiting response... 200 OK\n",
            "Length: 65536128 (62M) [application/octet-stream]\n",
            "Saving to: ‘normal.npy.1’\n",
            "\n",
            "\rnormal.npy.1          0%[                    ]       0  --.-KB/s               \rnormal.npy.1        100%[===================>]  62.50M   341MB/s    in 0.2s    \n",
            "\n",
            "2023-10-16 13:15:54 (341 MB/s) - ‘normal.npy.1’ saved [65536128/65536128]\n",
            "\n",
            "--2023-10-16 13:15:54--  https://raw.githubusercontent.com/TacoXDD/homeworks/master/dataset/train/pneumonia.npy\n",
            "Resolving raw.githubusercontent.com (raw.githubusercontent.com)... 185.199.108.133, 185.199.109.133, 185.199.110.133, ...\n",
            "Connecting to raw.githubusercontent.com (raw.githubusercontent.com)|185.199.108.133|:443... connected.\n",
            "HTTP request sent, awaiting response... 200 OK\n",
            "Length: 65536128 (62M) [application/octet-stream]\n",
            "Saving to: ‘pneumonia.npy.1’\n",
            "\n",
            "pneumonia.npy.1     100%[===================>]  62.50M   319MB/s    in 0.2s    \n",
            "\n",
            "2023-10-16 13:15:54 (319 MB/s) - ‘pneumonia.npy.1’ saved [65536128/65536128]\n",
            "\n"
          ]
        }
      ],
      "source": [
        "# Download dataset\n",
        "!wget https://raw.githubusercontent.com/TacoXDD/homeworks/master/dataset/train/normal.npy\n",
        "!wget https://raw.githubusercontent.com/TacoXDD/homeworks/master/dataset/train/pneumonia.npy"
      ]
    },
    {
      "cell_type": "markdown",
      "metadata": {
        "id": "w-1PsC--M7pT"
      },
      "source": [
        "## A. Data Loading and Preprocessing"
      ]
    },
    {
      "cell_type": "code",
      "execution_count": 20,
      "metadata": {
        "id": "oScQ0GG6xc6r",
        "outputId": "36efecc7-c058-4f16-fd0a-5767cbb43508",
        "colab": {
          "base_uri": "https://localhost:8080/"
        }
      },
      "outputs": [
        {
          "output_type": "stream",
          "name": "stdout",
          "text": [
            "Shape of abnormal_scans: (1000, 256, 256)\n",
            "Shape of normal_scans: (1000, 256, 256)\n",
            "Number of samples in train and validation are 1600 and 400.\n",
            "X_train: max value is 255.0, min value is 0.0, data type is torch.float32.\n"
          ]
        }
      ],
      "source": [
        "import torch\n",
        "from torch.utils.data import DataLoader, TensorDataset, random_split\n",
        "\n",
        "import numpy as np\n",
        "\n",
        "# Load Dataset\n",
        "abnormal_scans = np.load('pneumonia.npy')\n",
        "normal_scans = np.load('normal.npy')\n",
        "\n",
        "print(f'Shape of abnormal_scans: {abnormal_scans.shape}')\n",
        "print(f'Shape of normal_scans: {normal_scans.shape}')\n",
        "\n",
        "# For the data having presence of pneumonia assign 1, for the normal ones assign 0.\n",
        "\n",
        "abnormal_labels = np.ones((abnormal_scans.shape[0],))\n",
        "normal_labels = np.zeros((normal_scans.shape[0],))\n",
        "\n",
        "split_point = 800\n",
        "\n",
        "x_train = np.concatenate((abnormal_scans[:split_point], normal_scans[:split_point]), axis=0)\n",
        "y_train = np.concatenate((abnormal_labels[:split_point], normal_labels[:split_point]), axis=0)\n",
        "x_val = np.concatenate((abnormal_scans[split_point:], normal_scans[split_point:]), axis=0)\n",
        "y_val = np.concatenate((abnormal_labels[split_point:], normal_labels[split_point:]), axis=0)\n",
        "\n",
        "# Convert to PyTorch tensors\n",
        "x_train = torch.from_numpy(x_train).float()\n",
        "y_train = torch.from_numpy(y_train).long()\n",
        "x_val = torch.from_numpy(x_val).float()\n",
        "y_val = torch.from_numpy(y_val).long()\n",
        "\n",
        "# Create datasets\n",
        "train_dataset = TensorDataset(x_train, y_train)\n",
        "val_dataset = TensorDataset(x_val, y_val)\n",
        "\n",
        "# Create dataloaders\n",
        "train_loader = DataLoader(train_dataset, batch_size=32, shuffle=True)\n",
        "val_loader = DataLoader(val_dataset, batch_size=32, shuffle=False)\n",
        "\n",
        "print(f'Number of samples in train and validation are {len(train_loader.dataset)} and {len(val_loader.dataset)}.')\n",
        "print(f'X_train: max value is {x_train.max().item()}, min value is {x_train.min().item()}, data type is {x_train.dtype}.')"
      ]
    },
    {
      "cell_type": "markdown",
      "metadata": {
        "id": "oaLGtT28xc6s"
      },
      "source": [
        "## B. Defining Neural Networks in PyTorch"
      ]
    },
    {
      "cell_type": "code",
      "execution_count": 21,
      "metadata": {
        "id": "JZP0t5kOxc6s",
        "outputId": "bf831627-c8e3-4dfb-ee2f-e94580054e6e",
        "colab": {
          "base_uri": "https://localhost:8080/"
        }
      },
      "outputs": [
        {
          "output_type": "stream",
          "name": "stdout",
          "text": [
            "Sequential(\n",
            "  (0): Flatten(start_dim=1, end_dim=-1)\n",
            "  (1): Linear(in_features=65536, out_features=64, bias=True)\n",
            "  (2): BatchNorm1d(64, eps=1e-05, momentum=0.1, affine=True, track_running_stats=True)\n",
            "  (3): ReLU()\n",
            "  (4): Dropout(p=0.5, inplace=False)\n",
            "  (5): Linear(in_features=64, out_features=64, bias=True)\n",
            "  (6): BatchNorm1d(64, eps=1e-05, momentum=0.1, affine=True, track_running_stats=True)\n",
            "  (7): ReLU()\n",
            "  (8): Dropout(p=0.5, inplace=False)\n",
            "  (9): Linear(in_features=64, out_features=64, bias=True)\n",
            "  (10): BatchNorm1d(64, eps=1e-05, momentum=0.1, affine=True, track_running_stats=True)\n",
            "  (11): ReLU()\n",
            "  (12): Dropout(p=0.5, inplace=False)\n",
            "  (13): Linear(in_features=64, out_features=2, bias=True)\n",
            ")\n"
          ]
        }
      ],
      "source": [
        "import torch.nn as nn\n",
        "\n",
        "#Model in Lab 2\n",
        "# model = nn.Sequential(\n",
        "#     nn.Flatten(),\n",
        "#     nn.Linear(256*256*1, 256),\n",
        "#     nn.ReLU(),\n",
        "#     nn.Linear(256, 1)\n",
        "# ).cuda()\n",
        "\n",
        "model = nn.Sequential(\n",
        "    nn.Flatten(),\n",
        "\n",
        "    nn.Linear(256*256*1, 64),\n",
        "    nn.BatchNorm1d(64),\n",
        "    nn.ReLU(),\n",
        "    nn.Dropout(0.5),\n",
        "    # Batch norm 跟 Dropout 位置不能動 否則意義改變\n",
        "    nn.Linear(64, 64),\n",
        "    nn.BatchNorm1d(64),\n",
        "    nn.ReLU(),\n",
        "    nn.Dropout(0.5),\n",
        "\n",
        "    nn.Linear(64, 64),\n",
        "    nn.BatchNorm1d(64),\n",
        "    nn.ReLU(),\n",
        "    nn.Dropout(0.5),\n",
        "\n",
        "    nn.Linear(64, 2 ) ## BCE nn.Linear(64, 1 ); CE nn.Linear(64, 2 )\n",
        ").cuda()\n",
        "\n",
        "print(model)"
      ]
    },
    {
      "cell_type": "markdown",
      "metadata": {
        "id": "nvLTU-IfZLqn"
      },
      "source": [
        "## C. Training the Neural Network"
      ]
    },
    {
      "cell_type": "code",
      "execution_count": 22,
      "metadata": {
        "id": "45ol4lpVxc6t",
        "outputId": "b86286a3-425d-4a45-b8a7-f1d3fccde744",
        "colab": {
          "base_uri": "https://localhost:8080/"
        }
      },
      "outputs": [
        {
          "output_type": "stream",
          "name": "stdout",
          "text": [
            "Epoch 1/30, Train Loss: 0.6139, Train Accuracy: 66.25%, Val Loss: 0.4585, Val Accuracy: 85.25%\n",
            "torch.save(model.state_dict(), model_classification.pth)\n",
            "Epoch 2/30, Train Loss: 0.3674, Train Accuracy: 85.75%, Val Loss: 0.2526, Val Accuracy: 92.25%\n",
            "torch.save(model.state_dict(), model_classification.pth)\n",
            "Epoch 3/30, Train Loss: 0.2507, Train Accuracy: 90.69%, Val Loss: 0.1979, Val Accuracy: 94.00%\n",
            "torch.save(model.state_dict(), model_classification.pth)\n",
            "Epoch 4/30, Train Loss: 0.2213, Train Accuracy: 92.00%, Val Loss: 0.2084, Val Accuracy: 92.50%\n",
            "Epoch 5/30, Train Loss: 0.1851, Train Accuracy: 92.94%, Val Loss: 0.2102, Val Accuracy: 93.25%\n",
            "Epoch 6/30, Train Loss: 0.1703, Train Accuracy: 93.88%, Val Loss: 0.2782, Val Accuracy: 87.75%\n",
            "Epoch 7/30, Train Loss: 0.1808, Train Accuracy: 93.56%, Val Loss: 0.1728, Val Accuracy: 94.00%\n",
            "torch.save(model.state_dict(), model_classification.pth)\n",
            "Epoch 8/30, Train Loss: 0.1448, Train Accuracy: 94.94%, Val Loss: 0.2153, Val Accuracy: 93.00%\n",
            "Epoch 9/30, Train Loss: 0.1505, Train Accuracy: 94.56%, Val Loss: 0.1736, Val Accuracy: 93.25%\n",
            "Epoch 10/30, Train Loss: 0.1356, Train Accuracy: 95.25%, Val Loss: 0.3684, Val Accuracy: 85.50%\n",
            "Epoch 11/30, Train Loss: 0.1181, Train Accuracy: 95.56%, Val Loss: 0.1414, Val Accuracy: 95.50%\n",
            "torch.save(model.state_dict(), model_classification.pth)\n",
            "Epoch 12/30, Train Loss: 0.1060, Train Accuracy: 96.75%, Val Loss: 0.1368, Val Accuracy: 95.25%\n",
            "torch.save(model.state_dict(), model_classification.pth)\n",
            "Epoch 13/30, Train Loss: 0.1055, Train Accuracy: 96.44%, Val Loss: 0.1341, Val Accuracy: 95.25%\n",
            "torch.save(model.state_dict(), model_classification.pth)\n",
            "Epoch 14/30, Train Loss: 0.0960, Train Accuracy: 97.00%, Val Loss: 0.1364, Val Accuracy: 95.25%\n",
            "Epoch 15/30, Train Loss: 0.0929, Train Accuracy: 96.94%, Val Loss: 0.1345, Val Accuracy: 95.50%\n",
            "Epoch 16/30, Train Loss: 0.0945, Train Accuracy: 96.81%, Val Loss: 0.1385, Val Accuracy: 95.50%\n",
            "Epoch 17/30, Train Loss: 0.0721, Train Accuracy: 97.62%, Val Loss: 0.1485, Val Accuracy: 95.00%\n",
            "Epoch 18/30, Train Loss: 0.1121, Train Accuracy: 96.31%, Val Loss: 0.1354, Val Accuracy: 95.50%\n",
            "Epoch 19/30, Train Loss: 0.0814, Train Accuracy: 97.56%, Val Loss: 0.1422, Val Accuracy: 95.25%\n",
            "Epoch 20/30, Train Loss: 0.0907, Train Accuracy: 97.06%, Val Loss: 0.1385, Val Accuracy: 95.75%\n",
            "Epoch 21/30, Train Loss: 0.0803, Train Accuracy: 97.31%, Val Loss: 0.1401, Val Accuracy: 95.25%\n",
            "Epoch 22/30, Train Loss: 0.0894, Train Accuracy: 97.00%, Val Loss: 0.1359, Val Accuracy: 95.75%\n",
            "Epoch 23/30, Train Loss: 0.0849, Train Accuracy: 97.19%, Val Loss: 0.1388, Val Accuracy: 95.25%\n",
            "Epoch 24/30, Train Loss: 0.0934, Train Accuracy: 96.75%, Val Loss: 0.1420, Val Accuracy: 94.75%\n",
            "Epoch 25/30, Train Loss: 0.0873, Train Accuracy: 96.81%, Val Loss: 0.1348, Val Accuracy: 95.75%\n",
            "Epoch 26/30, Train Loss: 0.0911, Train Accuracy: 97.12%, Val Loss: 0.1414, Val Accuracy: 95.25%\n",
            "Epoch 27/30, Train Loss: 0.0783, Train Accuracy: 97.06%, Val Loss: 0.1390, Val Accuracy: 95.50%\n",
            "Epoch 28/30, Train Loss: 0.0677, Train Accuracy: 97.56%, Val Loss: 0.1400, Val Accuracy: 95.50%\n",
            "Epoch 29/30, Train Loss: 0.0707, Train Accuracy: 97.69%, Val Loss: 0.1356, Val Accuracy: 95.75%\n",
            "Epoch 30/30, Train Loss: 0.0840, Train Accuracy: 97.06%, Val Loss: 0.1416, Val Accuracy: 95.25%\n"
          ]
        }
      ],
      "source": [
        "import torch.optim as optim\n",
        "from torch.optim.lr_scheduler import CosineAnnealingLR, StepLR\n",
        "\n",
        "train_losses = []\n",
        "val_losses = []\n",
        "train_accuracies = []\n",
        "val_accuracies = []\n",
        "\n",
        "epochs = 30\n",
        "best_val_loss = float('inf')\n",
        "\n",
        "# Criterion and Optimizer\n",
        "criterion = nn.CrossEntropyLoss() # nn.BCEWithLogitsLoss()\n",
        "\n",
        "optimizer = optim.Adam(model.parameters(), lr=1e-3)\n",
        "#lr_scheduler = CosineAnnealingLR(optimizer, T_max=len(train_loader)*epochs, eta_min=0)\n",
        "lr_scheduler = StepLR(optimizer, step_size=10, gamma=0.1)\n",
        "\n",
        "for epoch in range(epochs):\n",
        "    # Training\n",
        "    model.train()\n",
        "    total_loss = 0.0\n",
        "    train_correct = 0\n",
        "    total_train_samples = 0\n",
        "\n",
        "    for images, labels in train_loader:\n",
        "        images = images.cuda()\n",
        "        images = images / 255.\n",
        "        labels = labels.cuda()\n",
        "        optimizer.zero_grad()\n",
        "        outputs = model(images)\n",
        "\n",
        "        #labels = labels.float().unsqueeze(1) # for BCE loss\n",
        "        labels = labels.long() # for CE loss\n",
        "\n",
        "        loss = criterion(outputs, labels)\n",
        "        loss.backward()\n",
        "        optimizer.step()\n",
        "        total_loss += loss.item()\n",
        "\n",
        "        #train_predicted = torch.sigmoid(outputs) > 0.5 # for BCE loss\n",
        "        train_predicted = outputs.argmax(-1) # for CE loss\n",
        "        train_correct += (train_predicted.float() == labels).sum().item()\n",
        "        total_train_samples += labels.size(0)\n",
        "\n",
        "    avg_train_loss = total_loss / len(train_loader)\n",
        "    train_accuracy = 100. * train_correct / total_train_samples\n",
        "\n",
        "    # Validation\n",
        "    model.eval()\n",
        "    total_val_loss = 0.0\n",
        "    correct = 0\n",
        "    total = 0\n",
        "    with torch.no_grad():\n",
        "        for images, labels in val_loader:\n",
        "            images = images.cuda()\n",
        "            images = images / 255.\n",
        "            labels = labels.cuda()\n",
        "            outputs = model(images)\n",
        "\n",
        "            #labels = labels.float().unsqueeze(1)\n",
        "            labels = labels.long()\n",
        "            loss = criterion(outputs, labels)\n",
        "            total_val_loss += loss.item()\n",
        "\n",
        "            #predicted = torch.sigmoid(outputs) > 0.5\n",
        "            predicted = outputs.argmax(-1)\n",
        "            correct += (predicted==labels).sum().item()\n",
        "            total += labels.size(0)\n",
        "\n",
        "    avg_val_loss = total_val_loss / len(val_loader)\n",
        "    val_accuracy = 100. * correct / total\n",
        "\n",
        "    print(f'Epoch {epoch+1}/{epochs}, Train Loss: {avg_train_loss:.4f}, Train Accuracy: {train_accuracy:.2f}%, Val Loss: {avg_val_loss:.4f}, Val Accuracy: {val_accuracy:.2f}%')\n",
        "\n",
        "    # Learning rate update\n",
        "    lr_scheduler.step()\n",
        "\n",
        "    # Checkpoint\n",
        "    if avg_val_loss < best_val_loss:\n",
        "        best_val_loss = avg_val_loss\n",
        "        torch.save(model.state_dict(), 'model_classification.pth')\n",
        "        print('torch.save(model.state_dict(), model_classification.pth)')\n",
        "    # Store performance\n",
        "    train_losses.append(avg_train_loss)\n",
        "    train_accuracies.append(train_accuracy)\n",
        "    val_losses.append(avg_val_loss)\n",
        "    val_accuracies.append(val_accuracy)"
      ]
    },
    {
      "cell_type": "markdown",
      "metadata": {
        "id": "pjmYxAJnxc6t"
      },
      "source": [
        "### Visualizing model performance"
      ]
    },
    {
      "cell_type": "code",
      "execution_count": 23,
      "metadata": {
        "id": "pHpS0Q7vxc6t",
        "outputId": "8a3ac458-2ba3-496b-bad4-ea3336c9bd8f",
        "colab": {
          "base_uri": "https://localhost:8080/",
          "height": 487
        }
      },
      "outputs": [
        {
          "output_type": "display_data",
          "data": {
            "text/plain": [
              "<Figure size 1500x500 with 2 Axes>"
            ],
            "image/png": "[encoded data removed]"
          },
          "metadata": {}
        }
      ],
      "source": [
        "import matplotlib.pyplot as plt\n",
        "\n",
        "fig, ax = plt.subplots(1, 2, figsize=(15, 5))\n",
        "plt.title('CE loss')\n",
        "# Plotting training and validation accuracy\n",
        "ax[0].plot(train_accuracies)\n",
        "ax[0].plot(val_accuracies,linestyle = '--')\n",
        "ax[0].set_title('Model Accuracy')\n",
        "ax[0].set_xlabel('Epochs')\n",
        "ax[0].set_ylabel('Accuracy')\n",
        "ax[0].legend(['Train', 'Val'])\n",
        "\n",
        "# Plotting training and validation loss\n",
        "ax[1].plot(train_losses)\n",
        "ax[1].plot(val_losses,linestyle = '--')\n",
        "ax[1].set_title('Model Loss')\n",
        "ax[1].set_xlabel('Epochs')\n",
        "ax[1].set_ylabel('Loss')\n",
        "ax[1].legend(['Train', 'Val'])\n",
        "\n",
        "plt.show()"
      ]
    },
    {
      "cell_type": "markdown",
      "source": [
        "# Model Evaluation with Test Set"
      ],
      "metadata": {
        "id": "q-xOOS5V1r5k"
      }
    },
    {
      "cell_type": "markdown",
      "source": [
        "Step 0: Download test dataset"
      ],
      "metadata": {
        "id": "ZuFD8y6E3bEt"
      }
    },
    {
      "cell_type": "code",
      "source": [
        "!wget https://raw.githubusercontent.com/TacoXDD/homeworks/master/dataset/test/test_normal.npy\n",
        "!wget https://raw.githubusercontent.com/TacoXDD/homeworks/master/dataset/test/test_pneumonia.npy"
      ],
      "metadata": {
        "id": "hBBXUwSs3Sgq",
        "colab": {
          "base_uri": "https://localhost:8080/"
        },
        "outputId": "bb7d10be-09a2-41ec-d0ec-8204c2fd414c"
      },
      "execution_count": 30,
      "outputs": [
        {
          "output_type": "stream",
          "name": "stdout",
          "text": [
            "--2023-10-16 13:18:26--  https://raw.githubusercontent.com/TacoXDD/homeworks/master/dataset/test/test_normal.npy\n",
            "Resolving raw.githubusercontent.com (raw.githubusercontent.com)... 185.199.108.133, 185.199.109.133, 185.199.110.133, ...\n",
            "Connecting to raw.githubusercontent.com (raw.githubusercontent.com)|185.199.108.133|:443... connected.\n",
            "HTTP request sent, awaiting response... 200 OK\n",
            "Length: 13107328 (12M) [application/octet-stream]\n",
            "Saving to: ‘test_normal.npy.3’\n",
            "\n",
            "\rtest_normal.npy.3     0%[                    ]       0  --.-KB/s               \rtest_normal.npy.3   100%[===================>]  12.50M  --.-KB/s    in 0.06s   \n",
            "\n",
            "2023-10-16 13:18:26 (195 MB/s) - ‘test_normal.npy.3’ saved [13107328/13107328]\n",
            "\n",
            "--2023-10-16 13:18:26--  https://raw.githubusercontent.com/TacoXDD/homeworks/master/dataset/test/test_pneumonia.npy\n",
            "Resolving raw.githubusercontent.com (raw.githubusercontent.com)... 185.199.108.133, 185.199.109.133, 185.199.110.133, ...\n",
            "Connecting to raw.githubusercontent.com (raw.githubusercontent.com)|185.199.108.133|:443... connected.\n",
            "HTTP request sent, awaiting response... 200 OK\n",
            "Length: 13107328 (12M) [application/octet-stream]\n",
            "Saving to: ‘test_pneumonia.npy.3’\n",
            "\n",
            "test_pneumonia.npy. 100%[===================>]  12.50M  --.-KB/s    in 0.05s   \n",
            "\n",
            "2023-10-16 13:18:26 (241 MB/s) - ‘test_pneumonia.npy.3’ saved [13107328/13107328]\n",
            "\n"
          ]
        }
      ]
    },
    {
      "cell_type": "markdown",
      "source": [
        "Step 1: Prepare your test dataset"
      ],
      "metadata": {
        "id": "AlcfJNLo3cQs"
      }
    },
    {
      "cell_type": "code",
      "source": [
        "import numpy as np\n",
        "\n",
        "test_abnormal = np.load('test_pneumonia.npy')\n",
        "test_normal = np.load('test_normal.npy')\n",
        "\n",
        "print(f'Shape of test_abnormal: {test_abnormal.shape}')\n",
        "print(f'Shape of test_normal: {test_normal.shape}')\n",
        "\n",
        "# For the data having presence of pneumonia assign 1, for the normal ones assign 0.\n",
        "test_abnormal_labels = np.ones((test_abnormal.shape[0],))\n",
        "test_normal_labels = np.zeros((test_normal.shape[0],))\n",
        "\n",
        "x_test = np.concatenate((test_abnormal, test_normal), axis=0)\n",
        "y_test = np.concatenate((test_abnormal_labels, test_normal_labels), axis=0)\n",
        "\n",
        "print(f'Shape of x_test: {x_test.shape}')\n",
        "print(f'Shape of y_test: {y_test.shape}')"
      ],
      "metadata": {
        "id": "LtAbtTiX3kmk",
        "colab": {
          "base_uri": "https://localhost:8080/"
        },
        "outputId": "9986ac88-ef81-481d-eac6-66b2093c4267"
      },
      "execution_count": 31,
      "outputs": [
        {
          "output_type": "stream",
          "name": "stdout",
          "text": [
            "Shape of test_abnormal: (200, 256, 256)\n",
            "Shape of test_normal: (200, 256, 256)\n",
            "Shape of x_test: (400, 256, 256)\n",
            "Shape of y_test: (400,)\n"
          ]
        }
      ]
    },
    {
      "cell_type": "markdown",
      "source": [
        "Step 2: Load Test Images into PyTorch DataLoader (5 pts)"
      ],
      "metadata": {
        "id": "Hz4VYLbi3k4K"
      }
    },
    {
      "cell_type": "code",
      "source": [
        "import torch\n",
        "from torch.utils.data import DataLoader, TensorDataset, random_split\n",
        "\n",
        "# Convert to PyTorch tensors\n",
        "# 以下 x 為資料 y為資料對應的標籤；資料使用float，標籤使用long(int)\n",
        "x_test = torch.from_numpy(x_test).float()\n",
        "y_test = torch.from_numpy(y_test).long()\n",
        "\n",
        "# Combine the images and labels into a dataset\n",
        "test_dataset = TensorDataset(x_test, y_test)\n",
        "\n",
        "# Create a dataloader to load data in batches. Set batch size to 32.\n",
        "# Create dataloaders #把data 分成 mini batch 分次load\n",
        "test_loader = DataLoader(test_dataset, batch_size=32, shuffle=True)"
      ],
      "metadata": {
        "id": "TiFefC1_3wLi"
      },
      "execution_count": 32,
      "outputs": []
    },
    {
      "cell_type": "markdown",
      "source": [
        "Step 3: Prepare Your Trained Model"
      ],
      "metadata": {
        "id": "3Q6o7LZ54XlJ"
      }
    },
    {
      "cell_type": "code",
      "source": [
        "# Declare the model architecture (lab3 D.)\n",
        "# model = nn.Sequential(\n",
        "#     nn.Flatten(),#把圖片展成1D 65536\n",
        "#     nn.Linear(256*256*1, 256), #??\n",
        "#     nn.ReLU(), #\n",
        "#     nn.Linear(256, 1) # Map回Class ,1: about loss, BCE cross entropy; 作業裡的 CE entropy 要用2\n",
        "# ).cuda()\n",
        "model = nn.Sequential(\n",
        "    nn.Flatten(),\n",
        "\n",
        "    nn.Linear(256*256*1, 64),\n",
        "    nn.BatchNorm1d(64),\n",
        "    nn.ReLU(),\n",
        "    nn.Dropout(0.5),\n",
        "\n",
        "    nn.Linear(64, 64),\n",
        "    nn.BatchNorm1d(64),\n",
        "    nn.ReLU(),\n",
        "    nn.Dropout(0.5),\n",
        "\n",
        "    nn.Linear(64, 64),\n",
        "    nn.BatchNorm1d(64),\n",
        "    nn.ReLU(),\n",
        "    nn.Dropout(0.5),\n",
        "\n",
        "    nn.Linear(64, 2)\n",
        ").cuda()\n",
        "# Load the trained weights (Loading the Best Model?)\n",
        "\n",
        "\n",
        "model.load_state_dict(torch.load('model_classification.pth'))#.pth pytorch weight 會用的\n",
        "\n",
        "# Set the model to evaluation mode\n",
        "model.eval()"
      ],
      "metadata": {
        "id": "-6DYu6SS4iSw",
        "colab": {
          "base_uri": "https://localhost:8080/"
        },
        "outputId": "f0438d11-b35a-4a83-8732-7ced0933a24e"
      },
      "execution_count": 34,
      "outputs": [
        {
          "output_type": "execute_result",
          "data": {
            "text/plain": [
              "Sequential(\n",
              "  (0): Flatten(start_dim=1, end_dim=-1)\n",
              "  (1): Linear(in_features=65536, out_features=64, bias=True)\n",
              "  (2): BatchNorm1d(64, eps=1e-05, momentum=0.1, affine=True, track_running_stats=True)\n",
              "  (3): ReLU()\n",
              "  (4): Dropout(p=0.5, inplace=False)\n",
              "  (5): Linear(in_features=64, out_features=64, bias=True)\n",
              "  (6): BatchNorm1d(64, eps=1e-05, momentum=0.1, affine=True, track_running_stats=True)\n",
              "  (7): ReLU()\n",
              "  (8): Dropout(p=0.5, inplace=False)\n",
              "  (9): Linear(in_features=64, out_features=64, bias=True)\n",
              "  (10): BatchNorm1d(64, eps=1e-05, momentum=0.1, affine=True, track_running_stats=True)\n",
              "  (11): ReLU()\n",
              "  (12): Dropout(p=0.5, inplace=False)\n",
              "  (13): Linear(in_features=64, out_features=2, bias=True)\n",
              ")"
            ]
          },
          "metadata": {},
          "execution_count": 34
        }
      ]
    },
    {
      "cell_type": "markdown",
      "source": [
        "Step 4: Perform Inference and Calculate the Accuracy (10 pts)"
      ],
      "metadata": {
        "id": "qbrxVksU3wd7"
      }
    },
    {
      "cell_type": "code",
      "execution_count": 35,
      "metadata": {
        "id": "Mu3gGLcL07io",
        "colab": {
          "base_uri": "https://localhost:8080/"
        },
        "outputId": "15283928-8e48-4be8-bdce-ac7267b6bf5d"
      },
      "outputs": [
        {
          "output_type": "stream",
          "name": "stdout",
          "text": [
            "Test accuracy is 76.75%.\n"
          ]
        }
      ],
      "source": [
        "# From Lab2\n",
        "\n",
        "# Lab2 是隨機抽img 測試\n",
        "# 在此直接測試整個Test data\n",
        "test_correct = 0\n",
        "test_total = 0\n",
        "\n",
        "with torch.no_grad():\n",
        "    for images, labels in test_loader:\n",
        "\n",
        "        images = images.cuda()\n",
        "        images = images / 255.\n",
        "\n",
        "        labels = labels.cuda() # for BCE\n",
        "\n",
        "        outputs = model(images)\n",
        "\n",
        "        labels_float = labels.long()  # Convert labels to float and match shape with outputs for CE\n",
        "        predicted = outputs.argmax(-1)\n",
        "\n",
        "        test_correct += (predicted==labels).sum().item()\n",
        "        test_total += labels.size(0)\n",
        "\n",
        "\n",
        "\n",
        "train_accuracy = 100. * test_correct / test_total\n",
        "print(f'Test accuracy is {train_accuracy}%.')"
      ]
    }
  ],
  "metadata": {
    "accelerator": "GPU",
    "colab": {
      "gpuType": "T4",
      "provenance": []
    },
    "kernelspec": {
      "display_name": "Python 3 (ipykernel)",
      "language": "python",
      "name": "python3"
    },
    "language_info": {
      "codemirror_mode": {
        "name": "ipython",
        "version": 3
      },
      "file_extension": ".py",
      "mimetype": "text/x-python",
      "name": "python",
      "nbconvert_exporter": "python",
      "pygments_lexer": "ipython3",
      "version": "3.8.13"
    }
  },
  "nbformat": 4,
  "nbformat_minor": 0
}